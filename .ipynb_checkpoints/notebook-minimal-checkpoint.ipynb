{
 "cells": [
  {
   "cell_type": "markdown",
   "metadata": {
    "cell_id": "84572337dec840d28e31884263fded70",
    "deepnote_cell_height": 82,
    "deepnote_cell_type": "markdown",
    "tags": []
   },
   "source": [
    "# DJ GAN"
   ]
  },
  {
   "cell_type": "code",
   "execution_count": 1,
   "metadata": {
    "ExecuteTime": {
     "end_time": "2022-04-30T11:37:54.675914Z",
     "start_time": "2022-04-30T11:37:52.520671Z"
    },
    "cell_id": "0d3df946-d180-4f3a-b364-1c74bb6913b5",
    "deepnote_cell_height": 135,
    "deepnote_cell_type": "code",
    "deepnote_to_be_reexecuted": false,
    "execution_millis": 1029,
    "execution_start": 1650788143439,
    "source_hash": "71fa3b41",
    "tags": []
   },
   "outputs": [],
   "source": [
    "import numpy as np\n",
    "import IPython\n",
    "import matplotlib.pyplot as plt"
   ]
  },
  {
   "cell_type": "markdown",
   "metadata": {
    "cell_id": "23e386db7f004f9a86992759e064c8ad",
    "deepnote_cell_height": 130.78125,
    "deepnote_cell_type": "markdown",
    "tags": []
   },
   "source": [
    "## Generate dataset\n",
    "We'll start by generating our own very simple dataset with sinusoidal waves with frequencies between 300 and 500 and amplitudes between 0.5 and 1."
   ]
  },
  {
   "cell_type": "code",
   "execution_count": 2,
   "metadata": {
    "ExecuteTime": {
     "end_time": "2022-04-30T11:37:57.318933Z",
     "start_time": "2022-04-30T11:37:54.680864Z"
    },
    "cell_id": "c917d7eed27c45db84adbb82e51d9fef",
    "deepnote_cell_height": 190.09375,
    "deepnote_cell_type": "code",
    "deepnote_to_be_reexecuted": false,
    "execution_millis": 1988,
    "execution_start": 1650788145197,
    "source_hash": "dee9beed",
    "tags": []
   },
   "outputs": [],
   "source": [
    "import torch\n",
    "import numpy as np\n",
    "from torch.utils.data import TensorDataset, DataLoader\n",
    "import torch.optim as optim"
   ]
  },
  {
   "cell_type": "code",
   "execution_count": 3,
   "metadata": {
    "ExecuteTime": {
     "end_time": "2022-04-30T11:37:57.350864Z",
     "start_time": "2022-04-30T11:37:57.325057Z"
    },
    "cell_id": "62db27a3e5514601b01d868420f959c2",
    "deepnote_cell_height": 423,
    "deepnote_cell_type": "code",
    "deepnote_output_heights": [
     21.1875
    ],
    "deepnote_to_be_reexecuted": false,
    "execution_millis": 4,
    "execution_start": 1650788147197,
    "source_hash": "87cfc020",
    "tags": []
   },
   "outputs": [],
   "source": [
    "def get_data_samples(N=1000, scale=[1, 1], offset=[0,-1]):\n",
    "    data = []\n",
    "    for i in range(N):\n",
    "        f = np.random.random()*scale[0] + offset[0]\n",
    "        A = np.random.random()*scale[0] + offset[1]\n",
    "        sample = np.array([f, A])\n",
    "        data.append(sample)\n",
    "    \n",
    "    return np.array(data)"
   ]
  },
  {
   "cell_type": "code",
   "execution_count": 4,
   "metadata": {
    "ExecuteTime": {
     "end_time": "2022-04-30T11:37:57.428865Z",
     "start_time": "2022-04-30T11:37:57.354865Z"
    },
    "cell_id": "800c3a05bbec4d75aa4c61e3f759570f",
    "deepnote_cell_height": 172.1875,
    "deepnote_cell_type": "code",
    "deepnote_output_heights": [
     21.1875
    ],
    "deepnote_to_be_reexecuted": false,
    "execution_millis": 2340,
    "execution_start": 1650788147771,
    "source_hash": "67eaec70",
    "tags": []
   },
   "outputs": [
    {
     "data": {
      "text/plain": [
       "(5000, 2)"
      ]
     },
     "execution_count": 4,
     "metadata": {},
     "output_type": "execute_result"
    }
   ],
   "source": [
    "# generate data set (numpy)\n",
    "N_data = 1000\n",
    "scale = [1,1]\n",
    "offset = [5,5]\n",
    "data = get_data_samples(N_data, scale, offset)\n",
    "data.shape"
   ]
  },
  {
   "cell_type": "code",
   "execution_count": 5,
   "metadata": {
    "ExecuteTime": {
     "end_time": "2022-04-30T11:37:57.459648Z",
     "start_time": "2022-04-30T11:37:57.434865Z"
    }
   },
   "outputs": [
    {
     "data": {
      "text/plain": [
       "array([5.55998592, 5.90103588])"
      ]
     },
     "execution_count": 5,
     "metadata": {},
     "output_type": "execute_result"
    }
   ],
   "source": [
    "data[0]"
   ]
  },
  {
   "cell_type": "code",
   "execution_count": 6,
   "metadata": {
    "ExecuteTime": {
     "end_time": "2022-04-30T11:37:57.490864Z",
     "start_time": "2022-04-30T11:37:57.468864Z"
    },
    "cell_id": "b7f8d634a9f847b39ee78ac00da5ffcf",
    "deepnote_cell_height": 189,
    "deepnote_cell_type": "code",
    "deepnote_output_heights": [
     21.1875
    ],
    "deepnote_to_be_reexecuted": false,
    "execution_millis": 38,
    "execution_start": 1650788149939,
    "source_hash": "e5b24888",
    "tags": []
   },
   "outputs": [],
   "source": [
    "# create dataloader \n",
    "batch_size = 64\n",
    "\n",
    "tensor_x = torch.Tensor(data) # transform to torch tensor\n",
    "\n",
    "dataset = TensorDataset(tensor_x) # create your datset\n",
    "dataloader = DataLoader(dataset, batch_size=batch_size, shuffle=True) # create your dataloader"
   ]
  },
  {
   "cell_type": "markdown",
   "metadata": {
    "cell_id": "241a8a93100f4f15b3c284792ee78bdd",
    "deepnote_cell_height": 147.78125,
    "deepnote_cell_type": "markdown",
    "tags": []
   },
   "source": [
    "## The networks\n",
    "- Discriminator\n",
    "- Generator"
   ]
  },
  {
   "cell_type": "code",
   "execution_count": 7,
   "metadata": {
    "ExecuteTime": {
     "end_time": "2022-04-30T11:37:57.521865Z",
     "start_time": "2022-04-30T11:37:57.498865Z"
    },
    "cell_id": "b3a1582a8a0a4f37baaa8865cd52d8a9",
    "deepnote_cell_height": 387,
    "deepnote_cell_type": "code",
    "deepnote_to_be_reexecuted": false,
    "execution_millis": 2,
    "execution_start": 1650788149982,
    "source_hash": "bfdfd1c3",
    "tags": []
   },
   "outputs": [],
   "source": [
    "# discriminator network\n",
    "import torch.nn as nn\n",
    "import torch.nn.functional as F\n",
    "\n",
    "class Discriminator(nn.Module):\n",
    "    def __init__(self, input_size):\n",
    "        super().__init__()\n",
    "        self.layers = nn.Sequential(nn.Linear(input_size, 8),\n",
    "                                    nn.ReLU(),\n",
    "                                    #nn.Dropout(0.5),\n",
    "                                    nn.Linear(8, 1),\n",
    "                                    nn.Sigmoid()\n",
    "        )\n",
    "\n",
    "    def forward(self, x):\n",
    "        x = self.layers(x)\n",
    "        return x\n"
   ]
  },
  {
   "cell_type": "code",
   "execution_count": 8,
   "metadata": {
    "ExecuteTime": {
     "end_time": "2022-04-30T11:37:57.553864Z",
     "start_time": "2022-04-30T11:37:57.534865Z"
    },
    "cell_id": "655dcc9e50ef471cb4d047689c5bec79",
    "deepnote_cell_height": 369,
    "deepnote_cell_type": "code",
    "deepnote_to_be_reexecuted": false,
    "execution_millis": 0,
    "execution_start": 1650788149991,
    "source_hash": "2194170b",
    "tags": []
   },
   "outputs": [],
   "source": [
    "# generator network\n",
    "class Generator(nn.Module):\n",
    "    def __init__(self, input_size, output_size):\n",
    "        super().__init__()\n",
    "        self.layers = nn.Sequential(nn.Linear(input_size, 16),\n",
    "                                    nn.Tanh(),\n",
    "                                    nn.Linear(16, 16),\n",
    "                                    #nn.BatchNorm1d(50),\n",
    "                                    nn.Tanh(),\n",
    "                                    #nn.Dropout(0.5),\n",
    "                                    nn.Linear(16, output_size),\n",
    "                                    #nn.ReLU()\n",
    "                                   )\n",
    "        \n",
    "\n",
    "    def forward(self, x):\n",
    "        x = self.layers(x)\n",
    "        return x"
   ]
  },
  {
   "cell_type": "markdown",
   "metadata": {
    "cell_id": "4510a2096e614096a8f24eb1048f7889",
    "deepnote_cell_height": 120.390625,
    "deepnote_cell_type": "markdown",
    "tags": []
   },
   "source": [
    "# Training and Evaluation\n",
    "following the example in https://pytorch.org/tutorials/beginner/dcgan_faces_tutorial.html"
   ]
  },
  {
   "cell_type": "code",
   "execution_count": 9,
   "metadata": {
    "ExecuteTime": {
     "end_time": "2022-04-30T11:37:57.569866Z",
     "start_time": "2022-04-30T11:37:57.557979Z"
    },
    "cell_id": "28a2cf2114b04ac8af47fb116695b878",
    "deepnote_cell_height": 243,
    "deepnote_cell_type": "code",
    "deepnote_to_be_reexecuted": false,
    "execution_millis": 6,
    "execution_start": 1650788149992,
    "source_hash": "aad249ce",
    "tags": []
   },
   "outputs": [],
   "source": [
    "# Learning rate for optimizers\n",
    "lr = 0.001\n",
    "\n",
    "# Beta1 hyperparam for Adam optimizers\n",
    "beta1 = 0.5\n",
    "\n",
    "# length of random vector\n",
    "nz = 4\n",
    "\n",
    "device = torch.device(\"cuda:0\" if (torch.cuda.is_available() and ngpu > 0) else \"cpu\")"
   ]
  },
  {
   "cell_type": "code",
   "execution_count": 10,
   "metadata": {
    "ExecuteTime": {
     "end_time": "2022-04-30T11:37:57.600864Z",
     "start_time": "2022-04-30T11:37:57.574863Z"
    },
    "cell_id": "a5b4b02f938d49c3802c4c8154c84dda",
    "deepnote_cell_height": 279,
    "deepnote_cell_type": "code",
    "deepnote_to_be_reexecuted": false,
    "execution_millis": 3,
    "execution_start": 1650788150010,
    "source_hash": "174104c7",
    "tags": []
   },
   "outputs": [],
   "source": [
    "# Initialize BCELoss function\n",
    "criterion = nn.BCELoss()\n",
    "#criterion = nn.\n",
    "\n",
    "fixed_noise = torch.randn(256, nz, device=device)\n",
    "\n",
    "# Establish convention for real and fake labels during training\n",
    "real_label_disc = 1.0 #change to 0.9? one-sided label smoothing\n",
    "real_label_gen = 1. \n",
    "fake_label = 0.\n",
    "\n",
    "# networks\n",
    "n_features = 2\n",
    "netD = Discriminator(n_features)\n",
    "netG = Generator(nz, n_features)\n",
    "\n",
    "# Setup Adam optimizers for both G and D\n",
    "optimizerD = optim.Adam(netD.parameters(), lr=lr)#, betas=(beta1, 0.999))\n",
    "optimizerG = optim.Adam(netG.parameters(), lr=lr)#, betas=(beta1, 0.999))"
   ]
  },
  {
   "cell_type": "code",
   "execution_count": 11,
   "metadata": {
    "ExecuteTime": {
     "end_time": "2022-04-30T11:37:57.616866Z",
     "start_time": "2022-04-30T11:37:57.605095Z"
    },
    "cell_id": "4971ddb78afd40b0ae3b349b296ada4e",
    "deepnote_cell_height": 207,
    "deepnote_cell_type": "code",
    "deepnote_to_be_reexecuted": false,
    "execution_millis": 0,
    "execution_start": 1650788269344,
    "source_hash": "3751a379",
    "tags": []
   },
   "outputs": [],
   "source": [
    "# Lists to keep track of progress\n",
    "freq_list = []\n",
    "G_losses_epoch = []\n",
    "D_losses_epoch = []\n",
    "D_xs_epoch = []\n",
    "D_G_z1s_epoch = []\n",
    "D_G_z2s_epoch = []\n",
    "iters = 0"
   ]
  },
  {
   "cell_type": "code",
   "execution_count": 12,
   "metadata": {
    "ExecuteTime": {
     "end_time": "2022-04-30T11:40:27.545854Z",
     "start_time": "2022-04-30T11:37:57.620863Z"
    },
    "cell_id": "690765e120bb4eadb7d395f8e2bb541e",
    "deepnote_cell_height": 2735,
    "deepnote_cell_type": "code",
    "deepnote_to_be_reexecuted": false,
    "execution_millis": 171991,
    "execution_start": 1650788546697,
    "scrolled": false,
    "source_hash": "a79f17e5",
    "tags": []
   },
   "outputs": [
    {
     "name": "stdout",
     "output_type": "stream",
     "text": [
      "Starting Training Loop...\n",
      "[1/250] \tLoss_D: 0.9710\tLoss_G: 0.5499\tD(x): 0.8963\tD(G(z)): 0.5772 / 0.5771 | (-0.04, 0.70), (0.05, 0.33)\n",
      "[26/250] \tLoss_D: 0.0246\tLoss_G: 3.7802\tD(x): 0.9989\tD(G(z)): 0.0232 / 0.0232 | (-0.04, 0.70), (0.05, 0.33)\n",
      "[51/250] \tLoss_D: 1.1860\tLoss_G: 1.0754\tD(x): 0.4642\tD(G(z)): 0.3415 / 0.3412 | (9.71, 10.28), (5.48, 6.58)\n",
      "[76/250] \tLoss_D: 1.2541\tLoss_G: 0.7776\tD(x): 0.5288\tD(G(z)): 0.4602 / 0.4595 | (3.20, 5.45), (4.70, 6.80)\n",
      "[101/250] \tLoss_D: 1.3252\tLoss_G: 0.7689\tD(x): 0.4958\tD(G(z)): 0.4638 / 0.4635 | (3.84, 4.11), (7.26, 8.32)\n",
      "[126/250] \tLoss_D: 1.2815\tLoss_G: 0.7441\tD(x): 0.5298\tD(G(z)): 0.4759 / 0.4752 | (4.57, 4.82), (5.56, 6.64)\n",
      "[151/250] \tLoss_D: 1.4441\tLoss_G: 0.7572\tD(x): 0.4455\tD(G(z)): 0.4700 / 0.4691 | (4.40, 4.60), (8.04, 8.26)\n",
      "[176/250] \tLoss_D: 1.3666\tLoss_G: 0.7210\tD(x): 0.4965\tD(G(z)): 0.4864 / 0.4863 | (8.81, 9.05), (2.49, 3.01)\n",
      "[201/250] \tLoss_D: 1.3109\tLoss_G: 0.7240\tD(x): 0.5240\tD(G(z)): 0.4854 / 0.4849 | (3.55, 3.65), (7.80, 7.96)\n",
      "[226/250] \tLoss_D: 1.4216\tLoss_G: 0.6908\tD(x): 0.4842\tD(G(z)): 0.5015 / 0.5013 | (3.07, 4.14), (6.70, 7.03)\n",
      "[250/250] \tLoss_D: 1.3931\tLoss_G: 0.7462\tD(x): 0.4724\tD(G(z)): 0.4744 / 0.4742 | (8.58, 9.23), (3.40, 4.15)\n"
     ]
    }
   ],
   "source": [
    "# Training Loop (copy pasted training loop and sligthly modified, ofc, we have to do our own...)\n",
    "\n",
    "# Number of training epochs\n",
    "num_epochs = 250\n",
    "\n",
    "Train_D = True\n",
    "Train_G = False\n",
    "\n",
    "print(\"Starting Training Loop...\")\n",
    "# For each epoch\n",
    "for epoch in range(num_epochs):\n",
    "    \n",
    "    # For each batch in the dataloader\n",
    "    G_losses = []\n",
    "    D_losses = []\n",
    "    D_xs = []\n",
    "    D_G_z1s = []\n",
    "    D_G_z2s = []\n",
    "    for i, data in enumerate(dataloader, 0):\n",
    "\n",
    "        ############################\n",
    "        # (1) Update D network: maximize log(D(x)) + log(1 - D(G(z)))\n",
    "        ###########################\n",
    "\n",
    "        ## Train with all-real batch\n",
    "        netD.zero_grad()\n",
    "\n",
    "        # Format batch\n",
    "        real_cpu = data[0].to(device)\n",
    "        #add_noise = torch.rand_like(real_cpu)*0.1 + 1\n",
    "        #real_cpu = real_cpu*add_noise\n",
    "        b_size = real_cpu.size(0)\n",
    "        #rand_noise = np.random.normal(0, 0.02)*0\n",
    "        label = torch.full((b_size,), real_label_disc, dtype=torch.float, device=device)\n",
    "\n",
    "        # Forward pass real batch through D\n",
    "        output = netD(real_cpu).view(-1)\n",
    "\n",
    "        # Calculate loss on all-real batch\n",
    "        errD_real = criterion(output, label)\n",
    "\n",
    "        # Calculate gradients for D in backward pass\n",
    "        errD_real.backward()\n",
    "        D_x = output.mean().item()\n",
    "\n",
    "        ## Train with all-fake batch\n",
    "\n",
    "        # Generate batch of latent vectors\n",
    "        noise = torch.randn(b_size, nz, device=device)\n",
    "\n",
    "        # Generate fake batch with G\n",
    "        fake = netG(noise)\n",
    "        label.fill_(fake_label)\n",
    "\n",
    "        # Classify all fake batch with D\n",
    "        output = netD(fake.detach()).view(-1)\n",
    "\n",
    "        # Calculate D's loss on the all-fake batch\n",
    "        errD_fake = criterion(output, label)\n",
    "\n",
    "        # Calculate the gradients for this batch, accumulated (summed) with previous gradients\n",
    "        errD_fake.backward()\n",
    "        D_G_z1 = output.mean().item()\n",
    "\n",
    "        # Compute error of D as sum over the fake and the real batches\n",
    "        errD = (errD_real + errD_fake)/2\n",
    "\n",
    "        # Update D\n",
    "        if Train_D:\n",
    "            optimizerD.step()\n",
    "\n",
    "        ############################\n",
    "        # (2) Update G network: maximize log(D(G(z)))\n",
    "        ###########################\n",
    "        netG.zero_grad()\n",
    "        label.fill_(real_label_gen)  # fake labels are real for generator cost\n",
    "\n",
    "        # Since we just updated D, perform another forward pass of all-fake batch through D\n",
    "        output = netD(fake).view(-1)\n",
    "        #print(f\"output shape = {output.shape}\")\n",
    "\n",
    "        # Calculate G's loss based on this output\n",
    "        errG = criterion(output, label)\n",
    "\n",
    "        # Calculate gradients for G\n",
    "        errG.backward()\n",
    "        D_G_z2 = output.mean().item()\n",
    "\n",
    "        # Update G\n",
    "        if Train_G:\n",
    "            optimizerG.step()\n",
    "\n",
    "        \n",
    "        # Save Losses for plotting later\n",
    "        G_losses.append(errG.item())\n",
    "        D_losses.append(errD.item())\n",
    "        D_xs.append(D_x)\n",
    "        D_G_z1s.append(D_G_z1)\n",
    "        D_G_z2s.append(D_G_z2)\n",
    "\n",
    "        iters += 1\n",
    "        \n",
    "        \n",
    "    \n",
    "    # Save Losses for plotting later\n",
    "    G_losses_epoch.append(np.mean(G_losses))\n",
    "    D_losses_epoch.append(np.mean(D_losses))\n",
    "    D_xs_epoch.append(np.mean(D_xs))\n",
    "    D_G_z1s_epoch.append(np.mean(D_G_z1s))\n",
    "    D_G_z2s_epoch.append(np.mean(D_G_z2s))\n",
    "    \n",
    "    if epoch > 25:\n",
    "        Train_G = True\n",
    "    \n",
    "#     if G_losses_epoch[-1] > D_losses_epoch[-1]:\n",
    "#         Train_D = True\n",
    "#         Train_G = True\n",
    "#         #print('Train Generator')\n",
    "#     else:\n",
    "#         Train_D = True\n",
    "#         Train_G = True\n",
    "        #print('Train Discriminator')\n",
    "    \n",
    "    # Check how the generator is doing by saving G's output on fixed_noise\n",
    "    with torch.no_grad():\n",
    "        fake_t = netG(fixed_noise).detach().cpu().numpy()\n",
    "    freq_list.append(fake_t)\n",
    "        \n",
    "    # Output training stats\n",
    "    if epoch%25==0 or epoch==num_epochs - 1:\n",
    "        print('[%d/%d] \\tLoss_D: %.4f\\tLoss_G: %.4f\\tD(x): %.4f\\tD(G(z)): %.4f / %.4f | (%.2f, %.2f), (%.2f, %.2f)'\n",
    "              % (epoch+1, num_epochs,\n",
    "                 D_losses_epoch[-1], G_losses_epoch[-1], D_xs_epoch[-1], \n",
    "                 D_G_z1s_epoch[-1], D_G_z2s_epoch[-1], \n",
    "                 freq_list[-1][:,0].min(), freq_list[-1][:,0].max(), freq_list[-1][:,1].min(), freq_list[-1][:,1].max()))\n",
    "\n",
    "# D(x) from 1 to 0.5\n",
    "# D(G(z)) from 0 to 0.5"
   ]
  },
  {
   "cell_type": "code",
   "execution_count": 13,
   "metadata": {
    "ExecuteTime": {
     "end_time": "2022-04-30T11:40:30.350812Z",
     "start_time": "2022-04-30T11:40:27.552855Z"
    },
    "cell_id": "28ef2b3e092647ef83dfdc1cd4340897",
    "deepnote_cell_height": 665,
    "deepnote_cell_type": "code",
    "deepnote_output_heights": [
     280,
     280
    ],
    "deepnote_to_be_reexecuted": false,
    "execution_millis": 514,
    "execution_start": 1650788441378,
    "owner_user_id": "cb872f99-5d53-41fd-8e80-c91f9e5f978a",
    "source_hash": "f67dbb60",
    "tags": []
   },
   "outputs": [
    {
     "data": {
      "image/png": "[encoded data removed]",
      "text/plain": [
       "<Figure size 1152x288 with 3 Axes>"
      ]
     },
     "metadata": {
      "needs_background": "light"
     },
     "output_type": "display_data"
    }
   ],
   "source": [
    "fig, axs = plt.subplots(1,3, figsize=(16,4))\n",
    "ax=axs[0]\n",
    "ax.plot(G_losses_epoch, label='generator')\n",
    "ax.plot(D_losses_epoch, label='discriminator')\n",
    "ax.set(xlabel='epoch', ylabel='loss')\n",
    "ax.legend()\n",
    "\n",
    "ax=axs[1]\n",
    "ax.plot(D_xs_epoch, label=r\"$D(x)$\")\n",
    "ax.legend()\n",
    "ax.set(title='from 1 to 0.5', xlabel='epoch')\n",
    "\n",
    "ax=axs[2]\n",
    "ax.plot(D_G_z1s_epoch, alpha=0.5, label=r\"$D(G(z))$ before update\")\n",
    "ax.plot(D_G_z2s_epoch, alpha=0.5, label=r\"$D(G(z))$ after update\")\n",
    "ax.legend()\n",
    "ax.set(title='from 0 to 0.5', xlabel='epoch');"
   ]
  },
  {
   "cell_type": "code",
   "execution_count": 14,
   "metadata": {
    "ExecuteTime": {
     "end_time": "2022-04-30T11:40:34.917261Z",
     "start_time": "2022-04-30T11:40:30.356664Z"
    },
    "scrolled": false
   },
   "outputs": [
    {
     "name": "stdout",
     "output_type": "stream",
     "text": [
      "0\n"
     ]
    },
    {
     "data": {
      "image/png": "[encoded data removed]",
      "text/plain": [
       "<Figure size 432x288 with 1 Axes>"
      ]
     },
     "metadata": {
      "needs_background": "light"
     },
     "output_type": "display_data"
    },
    {
     "name": "stdout",
     "output_type": "stream",
     "text": [
      "25\n"
     ]
    },
    {
     "data": {
      "image/png": "[encoded data removed]",
      "text/plain": [
       "<Figure size 432x288 with 1 Axes>"
      ]
     },
     "metadata": {
      "needs_background": "light"
     },
     "output_type": "display_data"
    },
    {
     "name": "stdout",
     "output_type": "stream",
     "text": [
      "50\n"
     ]
    },
    {
     "data": {
      "image/png": "[encoded data removed]",
      "text/plain": [
       "<Figure size 432x288 with 1 Axes>"
      ]
     },
     "metadata": {
      "needs_background": "light"
     },
     "output_type": "display_data"
    },
    {
     "name": "stdout",
     "output_type": "stream",
     "text": [
      "75\n"
     ]
    },
    {
     "data": {
      "image/png": "[encoded data removed]",
      "text/plain": [
       "<Figure size 432x288 with 1 Axes>"
      ]
     },
     "metadata": {
      "needs_background": "light"
     },
     "output_type": "display_data"
    },
    {
     "name": "stdout",
     "output_type": "stream",
     "text": [
      "100\n"
     ]
    },
    {
     "data": {
      "image/png": "[encoded data removed]",
      "text/plain": [
       "<Figure size 432x288 with 1 Axes>"
      ]
     },
     "metadata": {
      "needs_background": "light"
     },
     "output_type": "display_data"
    },
    {
     "name": "stdout",
     "output_type": "stream",
     "text": [
      "125\n"
     ]
    },
    {
     "data": {
      "image/png": "[encoded data removed]",
      "text/plain": [
       "<Figure size 432x288 with 1 Axes>"
      ]
     },
     "metadata": {
      "needs_background": "light"
     },
     "output_type": "display_data"
    },
    {
     "name": "stdout",
     "output_type": "stream",
     "text": [
      "150\n"
     ]
    },
    {
     "data": {
      "image/png": "[encoded data removed]",
      "text/plain": [
       "<Figure size 432x288 with 1 Axes>"
      ]
     },
     "metadata": {
      "needs_background": "light"
     },
     "output_type": "display_data"
    },
    {
     "name": "stdout",
     "output_type": "stream",
     "text": [
      "175\n"
     ]
    },
    {
     "data": {
      "image/png": "[encoded data removed]",
      "text/plain": [
       "<Figure size 432x288 with 1 Axes>"
      ]
     },
     "metadata": {
      "needs_background": "light"
     },
     "output_type": "display_data"
    },
    {
     "name": "stdout",
     "output_type": "stream",
     "text": [
      "200\n"
     ]
    },
    {
     "data": {
      "image/png": "[encoded data removed]",
      "text/plain": [
       "<Figure size 432x288 with 1 Axes>"
      ]
     },
     "metadata": {
      "needs_background": "light"
     },
     "output_type": "display_data"
    },
    {
     "name": "stdout",
     "output_type": "stream",
     "text": [
      "225\n"
     ]
    },
    {
     "data": {
      "image/png": "[encoded data removed]",
      "text/plain": [
       "<Figure size 432x288 with 1 Axes>"
      ]
     },
     "metadata": {
      "needs_background": "light"
     },
     "output_type": "display_data"
    },
    {
     "name": "stdout",
     "output_type": "stream",
     "text": [
      "249\n"
     ]
    },
    {
     "data": {
      "image/png": "[encoded data removed]",
      "text/plain": [
       "<Figure size 432x288 with 1 Axes>"
      ]
     },
     "metadata": {
      "needs_background": "light"
     },
     "output_type": "display_data"
    }
   ],
   "source": [
    "f_min=[offset[0], offset[0]]\n",
    "f_max=[offset[0] + scale[0], offset[0] + scale[0]]\n",
    "\n",
    "for i in range(len(freq_list)):\n",
    "    if i%25==0 or i==len(freq_list)-1:\n",
    "        print(i)\n",
    "        fig, ax = plt.subplots(1,1)\n",
    "        ax.scatter(freq_list[i][:,0], freq_list[i][:,1])\n",
    "        ax.plot([f_min[0], f_max[0]], [f_min[1], f_min[1]], '--r', label='target class')\n",
    "        ax.plot([f_min[0], f_max[0]], [f_max[1], f_max[1]], '--r')\n",
    "        ax.plot([f_min[0], f_min[0]], [f_min[1], f_max[1]], '--r')\n",
    "        ax.plot([f_max[0], f_max[0]], [f_min[1], f_max[1]], '--r')\n",
    "        plt.show()"
   ]
  },
  {
   "cell_type": "code",
   "execution_count": null,
   "metadata": {},
   "outputs": [],
   "source": []
  }
 ],
 "metadata": {
  "deepnote": {},
  "deepnote_execution_queue": [],
  "deepnote_notebook_id": "8e43ec28-0071-4273-a2db-84c96a5768fc",
  "kernelspec": {
   "display_name": "Python 3 (ipykernel)",
   "language": "python",
   "name": "python3"
  },
  "language_info": {
   "codemirror_mode": {
    "name": "ipython",
    "version": 3
   },
   "file_extension": ".py",
   "mimetype": "text/x-python",
   "name": "python",
   "nbconvert_exporter": "python",
   "pygments_lexer": "ipython3",
   "version": "3.7.12"
  },
  "toc": {
   "base_numbering": 1,
   "nav_menu": {},
   "number_sections": true,
   "sideBar": true,
   "skip_h1_title": false,
   "title_cell": "Table of Contents",
   "title_sidebar": "Contents",
   "toc_cell": false,
   "toc_position": {},
   "toc_section_display": true,
   "toc_window_display": false
  },
  "varInspector": {
   "cols": {
    "lenName": 16,
    "lenType": 16,
    "lenVar": 40
   },
   "kernels_config": {
    "python": {
     "delete_cmd_postfix": "",
     "delete_cmd_prefix": "del ",
     "library": "var_list.py",
     "varRefreshCmd": "print(var_dic_list())"
    },
    "r": {
     "delete_cmd_postfix": ") ",
     "delete_cmd_prefix": "rm(",
     "library": "var_list.r",
     "varRefreshCmd": "cat(var_dic_list()) "
    }
   },
   "types_to_exclude": [
    "module",
    "function",
    "builtin_function_or_method",
    "instance",
    "_Feature"
   ],
   "window_display": false
  }
 },
 "nbformat": 4,
 "nbformat_minor": 2
}
